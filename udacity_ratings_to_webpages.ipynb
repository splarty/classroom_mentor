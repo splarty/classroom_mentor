{
 "cells": [
  {
   "cell_type": "code",
   "execution_count": 1,
   "metadata": {},
   "outputs": [
    {
     "data": {
      "text/html": [
       "<style>.container { width:100% !important; }</style>"
      ],
      "text/plain": [
       "<IPython.core.display.HTML object>"
      ]
     },
     "metadata": {},
     "output_type": "display_data"
    }
   ],
   "source": [
    "from IPython.core.display import display, HTML, Markdown\n",
    "display(HTML(\"<style>.container { width:100% !important; }</style>\"))"
   ]
  },
  {
   "cell_type": "code",
   "execution_count": 2,
   "metadata": {},
   "outputs": [
    {
     "data": {
      "application/javascript": [
       "IPython.OutputArea.prototype._should_scroll = function(lines) {\n",
       "    return false;\n",
       "}"
      ],
      "text/plain": [
       "<IPython.core.display.Javascript object>"
      ]
     },
     "metadata": {},
     "output_type": "display_data"
    }
   ],
   "source": [
    "%%javascript\n",
    "IPython.OutputArea.prototype._should_scroll = function(lines) {\n",
    "    return false;\n",
    "}"
   ]
  },
  {
   "cell_type": "markdown",
   "metadata": {},
   "source": [
    "# Setup Information\n",
    "\n",
    "[Download chromedrive](http://chromedriver.chromium.org/downloads) - required"
   ]
  },
  {
   "cell_type": "code",
   "execution_count": 3,
   "metadata": {},
   "outputs": [],
   "source": [
    "#============> CHANGE THIS\n",
    "chromedriver_local_path = \"/path/to/chromedriver\"\n",
    "logon_webpage = 'https://auth.udacity.com/sign-in?next=https%3A%2F%2Fmentor-dashboard.udacity.com%2Freviews%2Foverview'\n",
    "\n",
    "#============> CHANGE THIS\n",
    "email = \"myles.callan@gmail.com\"\n",
    "#============> CHANGE THIS\n",
    "password = \"Fast5300\"\n",
    "\n",
    "## Feedbacks page Information\n",
    "feedbacks_webpage = 'https://review-api.udacity.com/api/v1/me/student_feedbacks.json?start_date=2018-07-14'\n",
    "#============> OPTIONAL USE SPECIFIC DATE\n",
    "# feedbacks_webpage = 'https://review-api.udacity.com/api/v1/me/student_feedbacks.json?start_date=2018-07-14'\n",
    "\n",
    "# variables relevant to this page:\n",
    "f_date = 'updated_at';f_file=\"ratings_{}.csv\"\n",
    "\n",
    "## Review page Information\n",
    "review_webpage = 'https://review-api.udacity.com/api/v1/me/submissions/completed.json'\n",
    "# variables relevant to this page:\n",
    "r_date='completed_at'; r_file=\"reviews_{}.csv\"\n",
    "\n",
    "## individual submissions page Information\n",
    "submissions_webpage = 'https://review-api.udacity.com/api/v1/me/submissions'\n",
    "# variables relevant to this page:\n",
    "s_date='completed_at'; s_file=\"my_submissions_{}.csv\""
   ]
  },
  {
   "cell_type": "markdown",
   "metadata": {},
   "source": [
    "## Download JSONs"
   ]
  },
  {
   "cell_type": "code",
   "execution_count": 4,
   "metadata": {},
   "outputs": [],
   "source": [
    "import sys\n",
    "from selenium import webdriver\n",
    "from selenium.webdriver.common.by import By\n",
    "from selenium.webdriver.support.ui import WebDriverWait\n",
    "from selenium.common.exceptions import TimeoutException\n",
    "from selenium.webdriver.support import expected_conditions as EC\n",
    "from selenium.webdriver.common.keys import Keys\n",
    "from selenium.webdriver.chrome.options import Options\n",
    "import time\n",
    "import os\n",
    "import datetime\n",
    "import pandas as pd\n",
    "pd.set_option('display.max_colwidth', -1)\n",
    "import json\n",
    "\n",
    "\n",
    "__author__ = 'Myles'\n",
    "\n",
    "class MentorReviewStudentFeedbacks(object):\n",
    "    '''setUp() = Access Udacity's Mentor Review Page\n",
    "       downloadFeedbacks() = Download feedback information\n",
    "       downloadReviews() = Download review information\n",
    "    '''\n",
    "       \n",
    "\n",
    "    def __init__(self,chromedriver_local_path,logon_webpage,email,password):\n",
    "        # Allow Notifications\n",
    "        self.opt = Options()\n",
    "        # Pass the argument 1 to allow and 2 to block\n",
    "        self.opt.add_experimental_option(\"prefs\", { \n",
    "        #     \"profile.default_content_setting_values.media_stream_mic\": 1, \n",
    "        #     \"profile.default_content_setting_values.media_stream_camera\": 1,\n",
    "        #     \"profile.default_content_setting_values.geolocation\": 1, \n",
    "            \"profile.default_content_setting_values.notifications\": 1 \n",
    "        })\n",
    "        # Setup\n",
    "        self.chromedriver_local_path = chromedriver_local_path\n",
    "        self.logon_webpage = logon_webpage\n",
    "        self.email = email\n",
    "        self.password = password\n",
    "        self.driver = webdriver.Chrome(self.chromedriver_local_path,chrome_options=self.opt)\n",
    "        self.driver.set_window_position(0, 0)\n",
    "        self.driver.set_window_size(1466, 1124)\n",
    "\n",
    "    def setUp(self):\n",
    "        # quick sign-in\n",
    "        self.driver.get(self.logon_webpage)\n",
    "        time.sleep(1)\n",
    "        self.email_elem = WebDriverWait(self.driver, 15).until(EC.presence_of_element_located((By.CSS_SELECTOR, \"input[type='email']\")))\n",
    "        self.email_elem.send_keys(self.email)\n",
    "        self.password_elem = WebDriverWait(self.driver, 15).until(EC.presence_of_element_located((By.CSS_SELECTOR, \"input[type='password']\")))\n",
    "        self.password_elem.send_keys(self.password + Keys.ENTER)\n",
    "        time.sleep(2)\n",
    "        \n",
    "    def downloadJSON(self,webpage,date,filename,download=True):\n",
    "        time_date = datetime.datetime.now().strftime(\"%I_%M%p_on_%b_%d\")\n",
    "        # access review content page\n",
    "        self.driver.get(webpage)\n",
    "        content = self.driver.find_element_by_xpath(\"html\").text\n",
    "        feedback_json = json.loads(content)\n",
    "        feedback = pd.DataFrame(feedback_json)\n",
    "        feedback = pd.concat([feedback.drop(['project'], axis=1), feedback['project'].apply(pd.Series).add_suffix('_project')], axis=1)\n",
    "        feedback[date] = pd.to_datetime(feedback[date])\n",
    "        feedback[\"Date\"] = feedback[date].map(lambda x: '{}/{}/{} at {}'.format(x.month,x.day,x.year, x.hour))\n",
    "        feedback.sort_values(by=date, inplace=True, ascending=False)\n",
    "        if download:\n",
    "            feedback.to_csv(filename.format(time_date), encoding='utf-8', index=False)\n",
    "        return feedback\n",
    "    \n",
    "    def tearDown(self):\n",
    "        self.driver.quit()\n",
    "        "
   ]
  },
  {
   "cell_type": "code",
   "execution_count": 5,
   "metadata": {},
   "outputs": [],
   "source": [
    "# create instance\n",
    "discourse = MentorReviewStudentFeedbacks(chromedriver_local_path,logon_webpage,email,password)\n",
    "\n",
    "# log on to dashboard\n",
    "discourse.setUp()\n",
    "reviews_df = discourse.downloadJSON(review_webpage,r_date,r_file)\n",
    "feedback_df = discourse.downloadJSON(feedbacks_webpage,f_date,f_file)\n",
    "my_submissions_df = discourse.downloadJSON(submissions_webpage,s_date,s_file)\n",
    "# Quit Driver\n",
    "discourse.tearDown()"
   ]
  },
  {
   "cell_type": "markdown",
   "metadata": {},
   "source": [
    "## Create Webpage"
   ]
  },
  {
   "cell_type": "code",
   "execution_count": 6,
   "metadata": {},
   "outputs": [],
   "source": [
    "class CreateReviewsWebpage(object):\n",
    "    '''setUp() = Access Udacity's Mentor Review Page\n",
    "       downloadFeedbacks() = Download feedback information\n",
    "       downloadReviews() = Download review information\n",
    "    '''\n",
    "    def __init__(self,reviewList,fileName,title = \"Feedback Page\"):\n",
    "        '''Required inputs: A list of lists, a filename, and a page name'''\n",
    "        self.reviewList = reviewList\n",
    "        self.fileName = fileName\n",
    "        self.title = title\n",
    "        \n",
    "    def createTable(self, listOfLists):\n",
    "        \"\"\"Create the HTML table, from the list of lists generated from the pandas dataframe (or other methods)\"\"\"\n",
    "        htmlTable = \"<table id='pyTable'><tr>\"\n",
    "        for ind, rows in enumerate(listOfLists):\n",
    "            for data in rows:\n",
    "                # add either the table headers (list 0) or the table rows (all other list items)\n",
    "                if ind == 0:\n",
    "                    htmlTable += \"<th>{}</th>\".format(data)\n",
    "                else:\n",
    "                    htmlTable += \"<td>{}</td>\".format(data)\n",
    "            \n",
    "            htmlTable += \"</tr><tr>\".format(data)\n",
    "        # remove the last <tr>, close the table\n",
    "        htmlTable = htmlTable[:-4] + \"</table>\"\n",
    "        return htmlTable\n",
    "    \n",
    "    def createContents(self):\n",
    "        '''Create the HTML page. The text will be the HTML table generated from createTable and the pandas data'''\n",
    "        createdTable = self.createTable(self.reviewList)\n",
    "        contents = \"\"\"<!DOCTYPE html PUBLIC '-//W3C//DTD HTML 4.01 Transitional//EN'>\n",
    "            <html>\n",
    "            <head>\n",
    "              <meta content='text/html; charset=ISO-8859-1'\n",
    "             http-equiv='content-type'>\n",
    "              <title>{}</title>\n",
    "            </head>\n",
    "            <style>\n",
    "            #pyTable {{\n",
    "                font-family: 'Trebuchet MS', Arial, Helvetica, sans-serif;\n",
    "                border-collapse: collapse;\n",
    "                width: 100%;\n",
    "            }}\n",
    "            #pyTable td, #pyTable th {{\n",
    "                border: 1px solid #ddd;\n",
    "                padding: 8px;\n",
    "            }}\n",
    "            #pyTable tr:nth-child(even){{background-color: #f2f2f2;}}\n",
    "            #pyTable tr:hover {{background-color: #ddd;}}\n",
    "            #pyTable th {{\n",
    "                padding-top: 12px;\n",
    "                padding-bottom: 12px;\n",
    "                text-align: left;\n",
    "                background-color: #4CAF50;\n",
    "                color: white;\n",
    "            }}\n",
    "            </style>\n",
    "            <body>{}\n",
    "            </body>\n",
    "            </html>\"\"\".format(self.title, createdTable)\n",
    "        return contents\n",
    "\n",
    "    def strToFile(self):\n",
    "        \"\"\"Create the HTML page. Then write the HTML file with the given name and the given contents.\"\"\"\n",
    "        self.contents = self.createContents()\n",
    "        output = open(self.fileName,\"w\")\n",
    "        output.write(self.contents)\n",
    "        output.close()\n",
    "\n",
    "    def browseLocal(self):\n",
    "        '''Open chrome webbrowser with the local file created above\n",
    "        with the given filename.'''\n",
    "        import webbrowser, os.path\n",
    "        self.strToFile()\n",
    "        # Note: remove .get(using='chrome') if you are using your default browser to log on to udacity (and it is not chrome)\n",
    "        webbrowser.get(using='chrome').open(\"file:///\" + os.path.abspath(self.fileName),new=2) #elaborated for Mac\n",
    "        \n"
   ]
  },
  {
   "cell_type": "markdown",
   "metadata": {},
   "source": [
    "# Create Ratings Webpage(s)\n",
    "\n",
    "## Webpage columns to include:\n",
    "\n",
    "For **ratings** the column options are: \n",
    "    \n",
    "       ['body', 'created_at', 'id', 'rating', 'read_at', 'submission_id',\n",
    "       'updated_at', 'id_project', 'name_project', 'visible_project',\n",
    "       'is_cert_project_project', 'is_career_project', 'Date', 'link']\n"
   ]
  },
  {
   "cell_type": "code",
   "execution_count": 6,
   "metadata": {},
   "outputs": [],
   "source": [
    "includeCols = ['Date','rating','name_project','link','body']\n",
    "# Optional Headers (otherwise column names are used). Has to have same len as includeCols\n",
    "optHeaders = ['Date','Rating','Project','Link','Comment']\n",
    "\n",
    "# choose columns to sort by\n",
    "sortBy = ['updated_at']\n",
    "# choose ordering. Has to have same len as sortBy\n",
    "sortOrder = [False]\n",
    "\n",
    "# choose HTML name\n",
    "fileName = 'Ratings_{}.html'\n",
    "linkID = 'submission_id'\n",
    "pageTitle = 'Feedback Page'"
   ]
  },
  {
   "cell_type": "markdown",
   "metadata": {},
   "source": [
    "### Function to set options and call CreateReviewsWebpage"
   ]
  },
  {
   "cell_type": "code",
   "execution_count": 8,
   "metadata": {},
   "outputs": [],
   "source": [
    "#  All arguments set as defaults (change values above)\n",
    "def callCreateReviewsWebpage(df, byProject = True, linkID = linkID, pageTitle = pageTitle, sortBy=sortBy, sortOrder = sortOrder , includeCols = includeCols, defaultHeaders = False, optHeaders = optHeaders, fileName=fileName):\n",
    "    ## Sort by project name, then date (change to the option that you want):\n",
    "    df.sort_values(by=sortBy, inplace=True, ascending=sortOrder)\n",
    "\n",
    "    ## Create link (from submission number)\n",
    "    try:\n",
    "        df['link'] = df[linkID].apply(lambda x: f\"<a href=https://review.udacity.com/#!/reviews/{x} target='_blank'>{x}</a>\")\n",
    "    except:\n",
    "        # if duplicate column names, select first\n",
    "        df['link'] = df[linkID].iloc[:,0].apply(lambda x: f\"<a href=https://review.udacity.com/#!/reviews/{x} target='_blank'>{x}</a>\")\n",
    "        \n",
    "\n",
    "    ## Columns to include in HTML table\n",
    "    dfHTML = df[includeCols].copy()\n",
    "    \n",
    "    if byProject:\n",
    "        ## Create separate pages for each project\n",
    "        for ind, grp in dfHTML.groupby('name_project'):\n",
    "\n",
    "            ## create a list of lists of entries\n",
    "            myList = grp.values.tolist()    \n",
    "\n",
    "            ## add the column headers (will become table headers)\n",
    "            if defaultHeaders:\n",
    "                myList.insert(0,list(grp.columns))\n",
    "            else:\n",
    "                ## or add your own headers\n",
    "                myList.insert(0,optHeaders)\n",
    "\n",
    "\n",
    "            reviewWebpage = CreateReviewsWebpage(myList,fileName=fileName.format(ind),title=pageTitle)\n",
    "            reviewWebpage.browseLocal()\n",
    "    else:\n",
    "        ## create a list of lists of entries\n",
    "        myList = dfHTML.values.tolist()    \n",
    "\n",
    "        ## add the column headers (will become table headers)\n",
    "        if defaultHeaders:\n",
    "            myList.insert(0,list(dfHTML.columns))\n",
    "        else:\n",
    "            ## or add your own headers\n",
    "            myList.insert(0,optHeaders)\n",
    "\n",
    "\n",
    "        reviewWebpage = CreateReviewsWebpage(myList,fileName=fileName, title=pageTitle)\n",
    "        reviewWebpage.browseLocal()        "
   ]
  },
  {
   "cell_type": "markdown",
   "metadata": {},
   "source": [
    "### Create Ratings Webpage"
   ]
  },
  {
   "cell_type": "code",
   "execution_count": 9,
   "metadata": {},
   "outputs": [],
   "source": [
    "    \n",
    "callCreateReviewsWebpage(feedback_df)"
   ]
  },
  {
   "cell_type": "markdown",
   "metadata": {},
   "source": [
    "# Create Review Webpage(s)\n",
    "\n",
    "## Webpage columns to include:\n",
    "\n",
    "For **reviews** the column options are: \n",
    "\n",
    "       ['annotation_urls', 'archive_url', 'assigned_at', 'checkmate_metadata',\n",
    "       'commit_sha', 'completed_at', 'created_at', 'enrollment_id',\n",
    "       'enrollment_node_key', 'escalated_at', 'files', 'general_comment',\n",
    "       'grader_id', 'held_at', 'hidden', 'id', 'is_training', 'language',\n",
    "       'nomination', 'notes', 'plagiarism_source_url',\n",
    "       'previous_submission_id', 'price', 'project_id', 'repo_url', 'result',\n",
    "       'result_reason', 'rubric_id', 'status', 'status_reason', 'training_id',\n",
    "       'type', 'ungradeable_tag', 'updated_at', 'url', 'user_id', 'id_project',\n",
    "       'name_project', 'visible_project', 'is_cert_project_project',\n",
    "       'is_career_project', 'Date']"
   ]
  },
  {
   "cell_type": "code",
   "execution_count": 11,
   "metadata": {},
   "outputs": [],
   "source": [
    "includeCols = ['Date','name_project','link','general_comment']\n",
    "# Optional Headers (otherwise column names are used). Has to have same len as includeCols\n",
    "optHeaders = ['Date','Project','Link','Comment']\n",
    "\n",
    "# choose columns to sort by\n",
    "sortBy = ['completed_at']\n",
    "# choose ordering. Has to have same len as sortBy\n",
    "sortOrder = [False]\n",
    "\n",
    "# choose HTML name\n",
    "fileName = 'Reviews_{}.html'\n",
    "linkID = 'id'\n",
    "pageTitle = 'Reviews Page'\n",
    "\n",
    "\n",
    "callCreateReviewsWebpage(reviews_df, linkID=linkID, pageTitle=pageTitle, sortBy=sortBy, sortOrder = sortOrder , includeCols = includeCols, defaultHeaders = False, optHeaders = optHeaders, fileName=fileName)"
   ]
  },
  {
   "cell_type": "markdown",
   "metadata": {},
   "source": [
    "# Create Personal Submissions Webpage\n",
    "\n",
    "## Webpage columns to include:\n",
    "\n",
    "For your **submissions** the column options are: \n",
    "    \n",
    "       ['annotation_urls', 'archive_url', 'assigned_at', 'checkmate_metadata',\n",
    "       'commit_sha', 'completed_at', 'created_at', 'enrollment_id',\n",
    "       'enrollment_node_key', 'escalated_at', 'files', 'general_comment',\n",
    "       'grader_id', 'held_at', 'hidden', 'id', 'is_training', 'language',\n",
    "       'nomination', 'notes', 'plagiarism_source_url',\n",
    "       'previous_submission_id', 'price', 'project_id', 'repo_url', 'result',\n",
    "       'result_reason', 'rubric_id', 'status', 'status_reason', 'training_id',\n",
    "       'type', 'ungradeable_tag', 'updated_at', 'url', 'user_id', 'id_project',\n",
    "       'name_project', 'visible_project', 'is_cert_project_project',\n",
    "       'is_career_project', 'Date', 'link']\n",
    "\n",
    "\n",
    "\n"
   ]
  },
  {
   "cell_type": "code",
   "execution_count": null,
   "metadata": {},
   "outputs": [],
   "source": [
    "includeCols = ['Date','name_project','link','escalated_at','general_comment']\n",
    "# Optional Headers (otherwise column names are used). Has to have same len as includeCols\n",
    "optHeaders = ['Date','Project','Link', 'Date Escalated','Comment']\n",
    "\n",
    "# choose columns to sort by\n",
    "sortBy = [ 'completed_at', 'name_project']\n",
    "# choose ordering. Has to have same len as sortBy\n",
    "sortOrder = [False, True]\n",
    "\n",
    "# choose HTML name\n",
    "fileName = 'My_Submissions.html'\n",
    "linkID = 'id'\n",
    "pageTitle = 'My Submissions'\n",
    "callCreateReviewsWebpage(my_submissions_df,byProject=False,linkID=linkID, pageTitle=pageTitle, sortBy=sortBy, sortOrder = sortOrder , includeCols = includeCols, defaultHeaders = False, optHeaders = optHeaders, fileName=fileName)"
   ]
  }
 ],
 "metadata": {
  "kernelspec": {
   "display_name": "Python 3",
   "language": "python",
   "name": "python3"
  },
  "language_info": {
   "codemirror_mode": {
    "name": "ipython",
    "version": 3
   },
   "file_extension": ".py",
   "mimetype": "text/x-python",
   "name": "python",
   "nbconvert_exporter": "python",
   "pygments_lexer": "ipython3",
   "version": "3.6.6"
  }
 },
 "nbformat": 4,
 "nbformat_minor": 2
}
